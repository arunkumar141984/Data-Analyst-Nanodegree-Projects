{
 "cells": [
  {
   "cell_type": "markdown",
   "metadata": {},
   "source": [
    "> **Tip**: Welcome to the Investigate a Dataset project! You will find tips in quoted sections like this to help organize your approach to your investigation. Before submitting your project, it will be a good idea to go back through your report and remove these sections to make the presentation of your work as tidy as possible. First things first, you might want to double-click this Markdown cell and change the title so that it reflects your dataset and investigation.\n",
    "\n",
    "# Project: Investigate a Dataset (Replace this with something more specific!)\n",
    "\n",
    "## Table of Contents\n",
    "<ul>\n",
    "<li><a href=\"#intro\">Introduction</a></li>\n",
    "<li><a href=\"#wrangling\">Data Wrangling</a></li>\n",
    "<li><a href=\"#eda\">Exploratory Data Analysis</a></li>\n",
    "<li><a href=\"#conclusions\">Conclusions</a></li>\n",
    "</ul>"
   ]
  },
  {
   "cell_type": "markdown",
   "metadata": {},
   "source": [
    "<a id='intro'></a>\n",
    "## Introduction\n",
    "\n",
    "> **Tip**: In this section of the report, provide a brief introduction to the dataset you've selected for analysis. At the end of this section, describe the questions that you plan on exploring over the course of the report. Try to build your report around the analysis of at least one dependent variable and three independent variables. If you're not sure what questions to ask, then make sure you familiarize yourself with the dataset, its variables and the dataset context for ideas of what to explore.\n",
    "\n",
    "> If you haven't yet selected and downloaded your data, make sure you do that first before coming back here. In order to work with the data in this workspace, you also need to upload it to the workspace. To do so, click on the jupyter icon in the upper left to be taken back to the workspace directory. There should be an 'Upload' button in the upper right that will let you add your data file(s) to the workspace. You can then click on the .ipynb file name to come back here."
   ]
  },
  {
   "cell_type": "code",
   "execution_count": 1,
   "metadata": {},
   "outputs": [],
   "source": [
    "# Use this cell to set up import statements for all of the packages that you\n",
    "#   plan to use.\n",
    "import pandas as pd\n",
    "import numpy as np\n",
    "import matplotlib.pyplot as plt\n",
    "import seaborn as sns\n",
    "%matplotlib inline\n",
    "# Remember to include a 'magic word' so that your visualizations are plotted\n",
    "#   inline with the notebook. See this page for more:\n",
    "#   http://ipython.readthedocs.io/en/stable/interactive/magics.html\n"
   ]
  },
  {
   "cell_type": "markdown",
   "metadata": {},
   "source": [
    "<a id='wrangling'></a>\n",
    "## Data Wrangling\n",
    "\n",
    "> **Tip**: In this section of the report, you will load in the data, check for cleanliness, and then trim and clean your dataset for analysis. Make sure that you document your steps carefully and justify your cleaning decisions.\n",
    "\n",
    "### General Properties"
   ]
  },
  {
   "cell_type": "code",
   "execution_count": 4,
   "metadata": {},
   "outputs": [
    {
     "name": "stdout",
     "output_type": "stream",
     "text": [
      "<class 'pandas.core.frame.DataFrame'>\n",
      "RangeIndex: 110527 entries, 0 to 110526\n",
      "Data columns (total 14 columns):\n",
      "PatientId         110527 non-null float64\n",
      "AppointmentID     110527 non-null int64\n",
      "Gender            110527 non-null object\n",
      "ScheduledDay      110527 non-null object\n",
      "AppointmentDay    110527 non-null object\n",
      "Age               110527 non-null int64\n",
      "Neighbourhood     110527 non-null object\n",
      "Scholarship       110527 non-null int64\n",
      "Hipertension      110527 non-null int64\n",
      "Diabetes          110527 non-null int64\n",
      "Alcoholism        110527 non-null int64\n",
      "Handcap           110527 non-null int64\n",
      "SMS_received      110527 non-null int64\n",
      "No-show           110527 non-null object\n",
      "dtypes: float64(1), int64(8), object(5)\n",
      "memory usage: 11.8+ MB\n"
     ]
    }
   ],
   "source": [
    "# Load your data and print out a few lines. Perform operations to inspect data\n",
    "#   types and look for instances of missing or possibly errant data.\n",
    "#data=pd.read_csv('noshowappointments-kagglev2-may-2016.csv')\n",
    "data=pd.read_csv('https://d17h27t6h515a5.cloudfront.net/topher/2017/October/59dd2e9a_noshowappointments-kagglev2-may-2016/noshowappointments-kagglev2-may-2016.csv')\n",
    "# Information of the input data\n",
    "data.info()"
   ]
  },
  {
   "cell_type": "markdown",
   "metadata": {},
   "source": [
    "### Data Cleaning"
   ]
  },
  {
   "cell_type": "code",
   "execution_count": 5,
   "metadata": {},
   "outputs": [
    {
     "data": {
      "image/png": "[encoded data removed]",
      "text/plain": [
       "<matplotlib.figure.Figure at 0x7f85e954fef0>"
      ]
     },
     "metadata": {
      "needs_background": "light"
     },
     "output_type": "display_data"
    }
   ],
   "source": [
    "#Convert the data type of 'ScheduledDay', 'AppointmentDay'\n",
    "data['ScheduledDay'] =  pd.to_datetime(data['ScheduledDay'])\n",
    "data['AppointmentDay'] =  pd.to_datetime(data['AppointmentDay'])\n",
    "\n",
    "#No Null values\n",
    "\n",
    "# See the Age group is valid\n",
    "sns.boxplot(data['Age']);\n"
   ]
  },
  {
   "cell_type": "code",
   "execution_count": null,
   "metadata": {},
   "outputs": [],
   "source": [
    "#Remove invalid age group values and age >=100 from the data set\n",
    "data = data[ (data['Age'] <=100) & (data['Age']>0)]"
   ]
  },
  {
   "cell_type": "code",
   "execution_count": 6,
   "metadata": {},
   "outputs": [
    {
     "data": {
      "text/plain": [
       "No     85303\n",
       "Yes    21677\n",
       "Name: No-show, dtype: int64"
      ]
     },
     "execution_count": 6,
     "metadata": {},
     "output_type": "execute_result"
    }
   ],
   "source": [
    "#Calculate the value count of Yes and No in 'No-show'\n",
    "df_count = data['No-show'].value_counts()\n",
    "df_count"
   ]
  },
  {
   "cell_type": "code",
   "execution_count": 7,
   "metadata": {},
   "outputs": [
    {
     "data": {
      "image/png": "[encoded data removed]",
      "text/plain": [
       "<matplotlib.figure.Figure at 0x7f86187c6be0>"
      ]
     },
     "metadata": {
      "needs_background": "light"
     },
     "output_type": "display_data"
    }
   ],
   "source": [
    "#Plot the \n",
    "df_count.plot(kind='bar',title=\"No-show Data\");"
   ]
  },
  {
   "cell_type": "code",
   "execution_count": 8,
   "metadata": {},
   "outputs": [],
   "source": [
    "#Define a function to take the key from user, group by this key &'No-Show' and return the propability for No-Show's\n",
    "def calculateProbability(df,keys,return_result=False):\n",
    "    #Add 'No-Show' as paremeter other than the key to group the input data frame\n",
    "    keys.append('No-show')\n",
    "    lst = [] #Delcare list variable \n",
    "    lst_key= {} #Declare key variable\n",
    "    df_temp = df.groupby(keys).count() \n",
    "    #display(df_temp)\n",
    "    \n",
    "    for i in range(0,len(df_temp),2):\n",
    "        # print(len(df_temp)) # Count of combinations\n",
    "        # print(\"Value of i is\",i) # loop value\n",
    "        # print(df_temp['PatientId'][i+1] , df_temp['PatientId'][i]) #value of each row\n",
    "        # print(df_temp.index[i][0])\n",
    "        lst.append(df_temp['PatientId'].iloc[i+1] / (df_temp['PatientId'].iloc[i]+df_temp['PatientId'].iloc[i+1]))\n",
    "        #logic is - value of \"No-Show\" as Yes / (Total value for YES+No)\n",
    "        lst_key[df_temp.index[i][0]] = df_temp['PatientId'].iloc[i+1] / (df_temp['PatientId'].iloc[i]+df_temp['PatientId'].iloc[i+1])    \n",
    "    if(return_result):\n",
    "        return lst_key\n",
    "    return lst"
   ]
  },
  {
   "cell_type": "markdown",
   "metadata": {},
   "source": [
    "<a id='eda'></a>\n",
    "## Exploratory Data Analysis\n"
   ]
  },
  {
   "cell_type": "markdown",
   "metadata": {},
   "source": [
    "<a id='eda'></a>\n",
    "# Question : Gender distribution for appointment drops"
   ]
  },
  {
   "cell_type": "code",
   "execution_count": 9,
   "metadata": {},
   "outputs": [
    {
     "data": {
      "image/png": "[encoded data removed]",
      "text/plain": [
       "<matplotlib.figure.Figure at 0x7f85e90cd828>"
      ]
     },
     "metadata": {
      "needs_background": "light"
     },
     "output_type": "display_data"
    }
   ],
   "source": [
    "#Get the propability based on the Gender\n",
    "count_gender = calculateProbability(data,['Gender'])\n",
    "# count_gender #display vlaues\n",
    "#Plot the graph\n",
    "sns.countplot(data['No-show'], hue=data['Gender'])\n",
    "plt.title('# No-shows probability based on Gender');\n",
    "plt.xlabel('No Show Appointment')\n",
    "plt.ylabel('# Appointments');"
   ]
  },
  {
   "cell_type": "code",
   "execution_count": 10,
   "metadata": {},
   "outputs": [
    {
     "data": {
      "text/html": [
       "<div>\n",
       "<style scoped>\n",
       "    .dataframe tbody tr th:only-of-type {\n",
       "        vertical-align: middle;\n",
       "    }\n",
       "\n",
       "    .dataframe tbody tr th {\n",
       "        vertical-align: top;\n",
       "    }\n",
       "\n",
       "    .dataframe thead th {\n",
       "        text-align: right;\n",
       "    }\n",
       "</style>\n",
       "<table border=\"1\" class=\"dataframe\">\n",
       "  <thead>\n",
       "    <tr style=\"text-align: right;\">\n",
       "      <th></th>\n",
       "      <th></th>\n",
       "      <th>PatientId</th>\n",
       "      <th>AppointmentID</th>\n",
       "      <th>ScheduledDay</th>\n",
       "      <th>AppointmentDay</th>\n",
       "      <th>Age</th>\n",
       "      <th>Neighbourhood</th>\n",
       "      <th>Scholarship</th>\n",
       "      <th>Hipertension</th>\n",
       "      <th>Diabetes</th>\n",
       "      <th>Alcoholism</th>\n",
       "      <th>Handcap</th>\n",
       "      <th>SMS_received</th>\n",
       "    </tr>\n",
       "    <tr>\n",
       "      <th>Gender</th>\n",
       "      <th>No-show</th>\n",
       "      <th></th>\n",
       "      <th></th>\n",
       "      <th></th>\n",
       "      <th></th>\n",
       "      <th></th>\n",
       "      <th></th>\n",
       "      <th></th>\n",
       "      <th></th>\n",
       "      <th></th>\n",
       "      <th></th>\n",
       "      <th></th>\n",
       "      <th></th>\n",
       "    </tr>\n",
       "  </thead>\n",
       "  <tbody>\n",
       "    <tr>\n",
       "      <th rowspan=\"2\" valign=\"top\">F</th>\n",
       "      <th>No</th>\n",
       "      <td>55839</td>\n",
       "      <td>55839</td>\n",
       "      <td>55839</td>\n",
       "      <td>55839</td>\n",
       "      <td>55839</td>\n",
       "      <td>55839</td>\n",
       "      <td>55839</td>\n",
       "      <td>55839</td>\n",
       "      <td>55839</td>\n",
       "      <td>55839</td>\n",
       "      <td>55839</td>\n",
       "      <td>55839</td>\n",
       "    </tr>\n",
       "    <tr>\n",
       "      <th>Yes</th>\n",
       "      <td>14272</td>\n",
       "      <td>14272</td>\n",
       "      <td>14272</td>\n",
       "      <td>14272</td>\n",
       "      <td>14272</td>\n",
       "      <td>14272</td>\n",
       "      <td>14272</td>\n",
       "      <td>14272</td>\n",
       "      <td>14272</td>\n",
       "      <td>14272</td>\n",
       "      <td>14272</td>\n",
       "      <td>14272</td>\n",
       "    </tr>\n",
       "    <tr>\n",
       "      <th rowspan=\"2\" valign=\"top\">M</th>\n",
       "      <th>No</th>\n",
       "      <td>29464</td>\n",
       "      <td>29464</td>\n",
       "      <td>29464</td>\n",
       "      <td>29464</td>\n",
       "      <td>29464</td>\n",
       "      <td>29464</td>\n",
       "      <td>29464</td>\n",
       "      <td>29464</td>\n",
       "      <td>29464</td>\n",
       "      <td>29464</td>\n",
       "      <td>29464</td>\n",
       "      <td>29464</td>\n",
       "    </tr>\n",
       "    <tr>\n",
       "      <th>Yes</th>\n",
       "      <td>7405</td>\n",
       "      <td>7405</td>\n",
       "      <td>7405</td>\n",
       "      <td>7405</td>\n",
       "      <td>7405</td>\n",
       "      <td>7405</td>\n",
       "      <td>7405</td>\n",
       "      <td>7405</td>\n",
       "      <td>7405</td>\n",
       "      <td>7405</td>\n",
       "      <td>7405</td>\n",
       "      <td>7405</td>\n",
       "    </tr>\n",
       "  </tbody>\n",
       "</table>\n",
       "</div>"
      ],
      "text/plain": [
       "                PatientId  AppointmentID  ScheduledDay  AppointmentDay    Age  \\\n",
       "Gender No-show                                                                  \n",
       "F      No           55839          55839         55839           55839  55839   \n",
       "       Yes          14272          14272         14272           14272  14272   \n",
       "M      No           29464          29464         29464           29464  29464   \n",
       "       Yes           7405           7405          7405            7405   7405   \n",
       "\n",
       "                Neighbourhood  Scholarship  Hipertension  Diabetes  \\\n",
       "Gender No-show                                                       \n",
       "F      No               55839        55839         55839     55839   \n",
       "       Yes              14272        14272         14272     14272   \n",
       "M      No               29464        29464         29464     29464   \n",
       "       Yes               7405         7405          7405      7405   \n",
       "\n",
       "                Alcoholism  Handcap  SMS_received  \n",
       "Gender No-show                                     \n",
       "F      No            55839    55839         55839  \n",
       "       Yes           14272    14272         14272  \n",
       "M      No            29464    29464         29464  \n",
       "       Yes            7405     7405          7405  "
      ]
     },
     "execution_count": 10,
     "metadata": {},
     "output_type": "execute_result"
    }
   ],
   "source": [
    "data.groupby(['Gender','No-show']).count()"
   ]
  },
  {
   "cell_type": "markdown",
   "metadata": {},
   "source": [
    "### Inferences for Gender Analysis\n",
    "Nearly 20% of the people do not show up irrespective of gender\n",
    "Women tend to have less No-shows than men in the given data set"
   ]
  },
  {
   "cell_type": "markdown",
   "metadata": {},
   "source": [
    "<a id='eda'></a>\n",
    "## Question : How Scholarship impact the appointments"
   ]
  },
  {
   "cell_type": "code",
   "execution_count": 11,
   "metadata": {},
   "outputs": [
    {
     "name": "stdout",
     "output_type": "stream",
     "text": [
      "Probability Values are {0: 0.19866695781472585, 1: 0.23785734110463502}\n"
     ]
    },
    {
     "data": {
      "image/png": "[encoded data removed]",
      "text/plain": [
       "<matplotlib.figure.Figure at 0x7f85e8f9e780>"
      ]
     },
     "metadata": {
      "needs_background": "light"
     },
     "output_type": "display_data"
    }
   ],
   "source": [
    "#Get the propability based on the scholarship\n",
    "count_Scholarship = calculateProbability(data,['Scholarship'], True)\n",
    "print(\"Probability Values are\", count_Scholarship) #display vlaues\n",
    "#Plot the graph\n",
    "sns.barplot(x = ['No','Yes'] , y=np.array(list(count_Scholarship.values())))\n",
    "plt.title('No-show Probability based on Scholarship');\n",
    "plt.xlabel('Scholarship Granted')\n",
    "plt.ylabel('Probability of No-show');"
   ]
  },
  {
   "cell_type": "code",
   "execution_count": 12,
   "metadata": {},
   "outputs": [
    {
     "data": {
      "text/html": [
       "<div>\n",
       "<style scoped>\n",
       "    .dataframe tbody tr th:only-of-type {\n",
       "        vertical-align: middle;\n",
       "    }\n",
       "\n",
       "    .dataframe tbody tr th {\n",
       "        vertical-align: top;\n",
       "    }\n",
       "\n",
       "    .dataframe thead th {\n",
       "        text-align: right;\n",
       "    }\n",
       "</style>\n",
       "<table border=\"1\" class=\"dataframe\">\n",
       "  <thead>\n",
       "    <tr style=\"text-align: right;\">\n",
       "      <th></th>\n",
       "      <th></th>\n",
       "      <th>PatientId</th>\n",
       "      <th>AppointmentID</th>\n",
       "      <th>Gender</th>\n",
       "      <th>ScheduledDay</th>\n",
       "      <th>AppointmentDay</th>\n",
       "      <th>Age</th>\n",
       "      <th>Neighbourhood</th>\n",
       "      <th>Hipertension</th>\n",
       "      <th>Diabetes</th>\n",
       "      <th>Alcoholism</th>\n",
       "      <th>Handcap</th>\n",
       "      <th>SMS_received</th>\n",
       "    </tr>\n",
       "    <tr>\n",
       "      <th>Scholarship</th>\n",
       "      <th>No-show</th>\n",
       "      <th></th>\n",
       "      <th></th>\n",
       "      <th></th>\n",
       "      <th></th>\n",
       "      <th></th>\n",
       "      <th></th>\n",
       "      <th></th>\n",
       "      <th></th>\n",
       "      <th></th>\n",
       "      <th></th>\n",
       "      <th></th>\n",
       "      <th></th>\n",
       "    </tr>\n",
       "  </thead>\n",
       "  <tbody>\n",
       "    <tr>\n",
       "      <th rowspan=\"2\" valign=\"top\">0</th>\n",
       "      <th>No</th>\n",
       "      <td>77065</td>\n",
       "      <td>77065</td>\n",
       "      <td>77065</td>\n",
       "      <td>77065</td>\n",
       "      <td>77065</td>\n",
       "      <td>77065</td>\n",
       "      <td>77065</td>\n",
       "      <td>77065</td>\n",
       "      <td>77065</td>\n",
       "      <td>77065</td>\n",
       "      <td>77065</td>\n",
       "      <td>77065</td>\n",
       "    </tr>\n",
       "    <tr>\n",
       "      <th>Yes</th>\n",
       "      <td>19106</td>\n",
       "      <td>19106</td>\n",
       "      <td>19106</td>\n",
       "      <td>19106</td>\n",
       "      <td>19106</td>\n",
       "      <td>19106</td>\n",
       "      <td>19106</td>\n",
       "      <td>19106</td>\n",
       "      <td>19106</td>\n",
       "      <td>19106</td>\n",
       "      <td>19106</td>\n",
       "      <td>19106</td>\n",
       "    </tr>\n",
       "    <tr>\n",
       "      <th rowspan=\"2\" valign=\"top\">1</th>\n",
       "      <th>No</th>\n",
       "      <td>8238</td>\n",
       "      <td>8238</td>\n",
       "      <td>8238</td>\n",
       "      <td>8238</td>\n",
       "      <td>8238</td>\n",
       "      <td>8238</td>\n",
       "      <td>8238</td>\n",
       "      <td>8238</td>\n",
       "      <td>8238</td>\n",
       "      <td>8238</td>\n",
       "      <td>8238</td>\n",
       "      <td>8238</td>\n",
       "    </tr>\n",
       "    <tr>\n",
       "      <th>Yes</th>\n",
       "      <td>2571</td>\n",
       "      <td>2571</td>\n",
       "      <td>2571</td>\n",
       "      <td>2571</td>\n",
       "      <td>2571</td>\n",
       "      <td>2571</td>\n",
       "      <td>2571</td>\n",
       "      <td>2571</td>\n",
       "      <td>2571</td>\n",
       "      <td>2571</td>\n",
       "      <td>2571</td>\n",
       "      <td>2571</td>\n",
       "    </tr>\n",
       "  </tbody>\n",
       "</table>\n",
       "</div>"
      ],
      "text/plain": [
       "                     PatientId  AppointmentID  Gender  ScheduledDay  \\\n",
       "Scholarship No-show                                                   \n",
       "0           No           77065          77065   77065         77065   \n",
       "            Yes          19106          19106   19106         19106   \n",
       "1           No            8238           8238    8238          8238   \n",
       "            Yes           2571           2571    2571          2571   \n",
       "\n",
       "                     AppointmentDay    Age  Neighbourhood  Hipertension  \\\n",
       "Scholarship No-show                                                       \n",
       "0           No                77065  77065          77065         77065   \n",
       "            Yes               19106  19106          19106         19106   \n",
       "1           No                 8238   8238           8238          8238   \n",
       "            Yes                2571   2571           2571          2571   \n",
       "\n",
       "                     Diabetes  Alcoholism  Handcap  SMS_received  \n",
       "Scholarship No-show                                               \n",
       "0           No          77065       77065    77065         77065  \n",
       "            Yes         19106       19106    19106         19106  \n",
       "1           No           8238        8238     8238          8238  \n",
       "            Yes          2571        2571     2571          2571  "
      ]
     },
     "execution_count": 12,
     "metadata": {},
     "output_type": "execute_result"
    }
   ],
   "source": [
    "data.groupby(['Scholarship','No-show']).count()"
   ]
  },
  {
   "cell_type": "markdown",
   "metadata": {},
   "source": [
    "### Inferences for Scholarship Analysis\n",
    "People without scholarship are more likely to make it to the appointment"
   ]
  },
  {
   "cell_type": "markdown",
   "metadata": {},
   "source": [
    "<a id='eda'></a>\n",
    "\n",
    "## Question : Do seniding SMS improve the appointment drops"
   ]
  },
  {
   "cell_type": "code",
   "execution_count": 13,
   "metadata": {},
   "outputs": [
    {
     "name": "stdout",
     "output_type": "stream",
     "text": [
      "Probability valuse are {0: 0.16726062213381954, 1: 0.27665972704140646}\n"
     ]
    },
    {
     "data": {
      "image/png": "[encoded data removed]",
      "text/plain": [
       "<matplotlib.figure.Figure at 0x7f85e9033128>"
      ]
     },
     "metadata": {
      "needs_background": "light"
     },
     "output_type": "display_data"
    }
   ],
   "source": [
    "count_sms = calculateProbability(data,['SMS_received'],True)\n",
    "print(\"Probability valuse are\",count_sms) #display vlaues\n",
    "#Plot the graph\n",
    "sns.barplot(x = ['No', 'Yes'] , y=np.array(list(count_sms.values())))\n",
    "plt.title('No-show Probability based on SMS');\n",
    "plt.xlabel('SMS received')\n",
    "plt.ylabel('Probability of No-show');"
   ]
  },
  {
   "cell_type": "code",
   "execution_count": 14,
   "metadata": {},
   "outputs": [
    {
     "data": {
      "text/html": [
       "<div>\n",
       "<style scoped>\n",
       "    .dataframe tbody tr th:only-of-type {\n",
       "        vertical-align: middle;\n",
       "    }\n",
       "\n",
       "    .dataframe tbody tr th {\n",
       "        vertical-align: top;\n",
       "    }\n",
       "\n",
       "    .dataframe thead th {\n",
       "        text-align: right;\n",
       "    }\n",
       "</style>\n",
       "<table border=\"1\" class=\"dataframe\">\n",
       "  <thead>\n",
       "    <tr style=\"text-align: right;\">\n",
       "      <th></th>\n",
       "      <th>PatientId</th>\n",
       "      <th>AppointmentID</th>\n",
       "      <th>Gender</th>\n",
       "      <th>ScheduledDay</th>\n",
       "      <th>AppointmentDay</th>\n",
       "      <th>Age</th>\n",
       "      <th>Neighbourhood</th>\n",
       "      <th>Scholarship</th>\n",
       "      <th>Hipertension</th>\n",
       "      <th>Diabetes</th>\n",
       "      <th>Alcoholism</th>\n",
       "      <th>Handcap</th>\n",
       "      <th>No-show</th>\n",
       "    </tr>\n",
       "    <tr>\n",
       "      <th>SMS_received</th>\n",
       "      <th></th>\n",
       "      <th></th>\n",
       "      <th></th>\n",
       "      <th></th>\n",
       "      <th></th>\n",
       "      <th></th>\n",
       "      <th></th>\n",
       "      <th></th>\n",
       "      <th></th>\n",
       "      <th></th>\n",
       "      <th></th>\n",
       "      <th></th>\n",
       "      <th></th>\n",
       "    </tr>\n",
       "  </thead>\n",
       "  <tbody>\n",
       "    <tr>\n",
       "      <th>0</th>\n",
       "      <td>72396</td>\n",
       "      <td>72396</td>\n",
       "      <td>72396</td>\n",
       "      <td>72396</td>\n",
       "      <td>72396</td>\n",
       "      <td>72396</td>\n",
       "      <td>72396</td>\n",
       "      <td>72396</td>\n",
       "      <td>72396</td>\n",
       "      <td>72396</td>\n",
       "      <td>72396</td>\n",
       "      <td>72396</td>\n",
       "      <td>72396</td>\n",
       "    </tr>\n",
       "    <tr>\n",
       "      <th>1</th>\n",
       "      <td>34584</td>\n",
       "      <td>34584</td>\n",
       "      <td>34584</td>\n",
       "      <td>34584</td>\n",
       "      <td>34584</td>\n",
       "      <td>34584</td>\n",
       "      <td>34584</td>\n",
       "      <td>34584</td>\n",
       "      <td>34584</td>\n",
       "      <td>34584</td>\n",
       "      <td>34584</td>\n",
       "      <td>34584</td>\n",
       "      <td>34584</td>\n",
       "    </tr>\n",
       "  </tbody>\n",
       "</table>\n",
       "</div>"
      ],
      "text/plain": [
       "              PatientId  AppointmentID  Gender  ScheduledDay  AppointmentDay  \\\n",
       "SMS_received                                                                   \n",
       "0                 72396          72396   72396         72396           72396   \n",
       "1                 34584          34584   34584         34584           34584   \n",
       "\n",
       "                Age  Neighbourhood  Scholarship  Hipertension  Diabetes  \\\n",
       "SMS_received                                                              \n",
       "0             72396          72396        72396         72396     72396   \n",
       "1             34584          34584        34584         34584     34584   \n",
       "\n",
       "              Alcoholism  Handcap  No-show  \n",
       "SMS_received                                \n",
       "0                  72396    72396    72396  \n",
       "1                  34584    34584    34584  "
      ]
     },
     "execution_count": 14,
     "metadata": {},
     "output_type": "execute_result"
    }
   ],
   "source": [
    "data.groupby('SMS_received').count()"
   ]
  },
  {
   "cell_type": "markdown",
   "metadata": {},
   "source": [
    "### Inferences for SMS Analysis\n",
    "People who have not recevied SMS tend to miss the appointment"
   ]
  },
  {
   "cell_type": "markdown",
   "metadata": {},
   "source": [
    "<a id='eda'></a>\n",
    "\n",
    "# Step 4: Conclusions\n",
    "\n",
    "1. Nearly 20% of the people do not show up irrespective of gender\n",
    "2. Women tend to have less No-shows than men in the provided data set\n",
    "3. People without scholarship are more likely to make it to the appointment\n",
    "4. People who have not recevied SMS tend to miss the appointment"
   ]
  },
  {
   "cell_type": "markdown",
   "metadata": {},
   "source": [
    "<a id='conclusions'></a>\n",
    "## Conclusions\n",
    "\n",
    "> **Tip**: Finally, summarize your findings and the results that have been performed. Make sure that you are clear with regards to the limitations of your exploration. If you haven't done any statistical tests, do not imply any statistical conclusions. And make sure you avoid implying causation from correlation!\n",
    "\n",
    "> **Tip**: Once you are satisfied with your work here, check over your report to make sure that it is satisfies all the areas of the rubric (found on the project submission page at the end of the lesson). You should also probably remove all of the \"Tips\" like this one so that the presentation is as polished as possible.\n",
    "\n",
    "## Submitting your Project \n",
    "\n",
    "> Before you submit your project, you need to create a .html or .pdf version of this notebook in the workspace here. To do that, run the code cell below. If it worked correctly, you should get a return code of 0, and you should see the generated .html file in the workspace directory (click on the orange Jupyter icon in the upper left).\n",
    "\n",
    "> Alternatively, you can download this report as .html via the **File** > **Download as** submenu, and then manually upload it into the workspace directory by clicking on the orange Jupyter icon in the upper left, then using the Upload button.\n",
    "\n",
    "> Once you've done this, you can submit your project by clicking on the \"Submit Project\" button in the lower right here. This will create and submit a zip file with this .ipynb doc and the .html or .pdf version you created. Congratulations!"
   ]
  },
  {
   "cell_type": "code",
   "execution_count": 15,
   "metadata": {},
   "outputs": [
    {
     "data": {
      "text/plain": [
       "0"
      ]
     },
     "execution_count": 15,
     "metadata": {},
     "output_type": "execute_result"
    }
   ],
   "source": [
    "from subprocess import call\n",
    "call(['python', '-m', 'nbconvert', 'Investigate_a_Dataset.ipynb'])"
   ]
  },
  {
   "cell_type": "code",
   "execution_count": null,
   "metadata": {},
   "outputs": [],
   "source": []
  }
 ],
 "metadata": {
  "kernelspec": {
   "display_name": "Python 3",
   "language": "python",
   "name": "python3"
  },
  "language_info": {
   "codemirror_mode": {
    "name": "ipython",
    "version": 3
   },
   "file_extension": ".py",
   "mimetype": "text/x-python",
   "name": "python",
   "nbconvert_exporter": "python",
   "pygments_lexer": "ipython3",
   "version": "3.6.3"
  }
 },
 "nbformat": 4,
 "nbformat_minor": 2
}
