{
 "cells": [
  {
   "cell_type": "markdown",
   "metadata": {},
   "source": [
    "# Step 0: Import the necesssary libraries"
   ]
  },
  {
   "cell_type": "code",
   "execution_count": 86,
   "metadata": {
    "collapsed": true
   },
   "outputs": [],
   "source": [
    "import pandas as pd\n",
    "import numpy as np\n",
    "import matplotlib.pyplot as plt\n",
    "import seaborn as sns\n",
    "%matplotlib inline"
   ]
  },
  {
   "cell_type": "markdown",
   "metadata": {},
   "source": [
    "# Step 1: Import the csv file"
   ]
  },
  {
   "cell_type": "code",
   "execution_count": null,
   "metadata": {
    "collapsed": true
   },
   "outputs": [],
   "source": [
    "data=pd.read_csv('//GBMLVFILFS05N02/home3$/ChanAbc/Profile/Desktop/Personal/Data Academy/Udemy/Nano Degree - Projects/Project 2/noshowappointments-kagglev2-may-2016.csv')\n",
    "data.info()"
   ]
  },
  {
   "cell_type": "markdown",
   "metadata": {},
   "source": [
    "# Step 2: Question \n",
    "#1. Gender distribution for appointment drops\n",
    "#2. How Scholarship impact the appointments\n",
    "#3. Do seniding SMS improve the appointment drops"
   ]
  },
  {
   "cell_type": "markdown",
   "metadata": {},
   "source": [
    "# Step 3: Data Analysis"
   ]
  },
  {
   "cell_type": "code",
   "execution_count": 15,
   "metadata": {},
   "outputs": [
    {
     "name": "stdout",
     "output_type": "stream",
     "text": [
      "<class 'pandas.core.frame.DataFrame'>\n",
      "RangeIndex: 110527 entries, 0 to 110526\n",
      "Data columns (total 14 columns):\n",
      "PatientId         110527 non-null float64\n",
      "AppointmentID     110527 non-null int64\n",
      "Gender            110527 non-null object\n",
      "ScheduledDay      110527 non-null datetime64[ns]\n",
      "AppointmentDay    110527 non-null datetime64[ns]\n",
      "Age               110527 non-null int64\n",
      "Neighbourhood     110527 non-null object\n",
      "Scholarship       110527 non-null int64\n",
      "Hipertension      110527 non-null int64\n",
      "Diabetes          110527 non-null int64\n",
      "Alcoholism        110527 non-null int64\n",
      "Handcap           110527 non-null int64\n",
      "SMS_received      110527 non-null int64\n",
      "No-show           110527 non-null object\n",
      "dtypes: datetime64[ns](2), float64(1), int64(8), object(3)\n",
      "memory usage: 11.8+ MB\n"
     ]
    }
   ],
   "source": [
    "# Information of the input data\n",
    "data.info()"
   ]
  },
  {
   "cell_type": "code",
   "execution_count": 14,
   "metadata": {},
   "outputs": [],
   "source": [
    "#Convert the data formet of 'ScheduledDay', 'AppointmentDay'\n",
    "data['ScheduledDay'] =  pd.to_datetime(data['ScheduledDay'])\n",
    "data['AppointmentDay'] =  pd.to_datetime(data['AppointmentDay'])"
   ]
  },
  {
   "cell_type": "code",
   "execution_count": null,
   "metadata": {
    "collapsed": true
   },
   "outputs": [],
   "source": [
    "#No Null values"
   ]
  },
  {
   "cell_type": "code",
   "execution_count": 19,
   "metadata": {},
   "outputs": [
    {
     "data": {
      "image/png": "[encoded data removed]",
      "text/plain": [
       "<matplotlib.figure.Figure at 0xfead940>"
      ]
     },
     "metadata": {},
     "output_type": "display_data"
    }
   ],
   "source": [
    "# See the Age group is valid\n",
    "sns.boxplot(data['Age']);"
   ]
  },
  {
   "cell_type": "code",
   "execution_count": 20,
   "metadata": {
    "collapsed": true
   },
   "outputs": [],
   "source": [
    "#Remove invalid age group values and age >=100 from the data set\n",
    "data = data[ (data['Age'] <=100) & (data['Age']>0)]"
   ]
  },
  {
   "cell_type": "code",
   "execution_count": 22,
   "metadata": {},
   "outputs": [
    {
     "data": {
      "text/plain": [
       "No     85303\n",
       "Yes    21677\n",
       "Name: No-show, dtype: int64"
      ]
     },
     "execution_count": 22,
     "metadata": {},
     "output_type": "execute_result"
    }
   ],
   "source": [
    "#Calculate the value count of Yes and No in 'No-show'\n",
    "df_count = data['No-show'].value_counts()\n",
    "df_count"
   ]
  },
  {
   "cell_type": "code",
   "execution_count": 26,
   "metadata": {},
   "outputs": [
    {
     "data": {
      "image/png": "[encoded data removed]",
      "text/plain": [
       "<matplotlib.figure.Figure at 0x1024b160>"
      ]
     },
     "metadata": {},
     "output_type": "display_data"
    }
   ],
   "source": [
    "#Plot the \n",
    "df_count.plot(kind='bar',title=\"No-show Data\");"
   ]
  },
  {
   "cell_type": "code",
   "execution_count": 83,
   "metadata": {
    "collapsed": true
   },
   "outputs": [],
   "source": [
    "#Define a function to take the key from user, group by this key &'No-Show' and return the propability for No-Show's\n",
    "def calculateProbability(df,keys,return_result=False):\n",
    "    #Add 'No-Show' as paremeter other than the key to group the input data frame\n",
    "    keys.append('No-show')\n",
    "    lst = [] #Delcare list variable \n",
    "    lst_key= {} #Declare key variable\n",
    "    df_temp = df.groupby(keys).count() \n",
    "    #display(df_temp)\n",
    "    \n",
    "    for i in range(0,len(df_temp),2):\n",
    "        # print(len(df_temp)) # Count of combinations\n",
    "        # print(\"Value of i is\",i) # loop value\n",
    "        # print(df_temp['PatientId'][i+1] , df_temp['PatientId'][i]) #value of each row\n",
    "        # print(df_temp.index[i][0])\n",
    "        lst.append(df_temp['PatientId'].iloc[i+1] / (df_temp['PatientId'].iloc[i]+df_temp['PatientId'].iloc[i+1]))\n",
    "        #logic is - value of \"No-Show\" as Yes / (Total value for YES+No)\n",
    "        lst_key[df_temp.index[i][0]] = df_temp['PatientId'].iloc[i+1] / (df_temp['PatientId'].iloc[i]+df_temp['PatientId'].iloc[i+1])    \n",
    "    if(return_result):\n",
    "        return lst_key\n",
    "    return lst"
   ]
  },
  {
   "cell_type": "markdown",
   "metadata": {},
   "source": [
    "## Gender Analysis"
   ]
  },
  {
   "cell_type": "code",
   "execution_count": 71,
   "metadata": {},
   "outputs": [
    {
     "data": {
      "image/png": "[encoded data removed]",
      "text/plain": [
       "<matplotlib.figure.Figure at 0xcc81128>"
      ]
     },
     "metadata": {},
     "output_type": "display_data"
    }
   ],
   "source": [
    "#Get the propability based on the Gender\n",
    "count_gender = calculateProbability(data,['Gender'])\n",
    "# count_gender #display vlaues\n",
    "#Plot the graph\n",
    "sns.countplot(data['No-show'], hue=data['Gender'])\n",
    "plt.title('# No-shows probability based on Gender');\n",
    "plt.xlabel('No Show Appointment')\n",
    "plt.ylabel('# Appointments');"
   ]
  },
  {
   "cell_type": "code",
   "execution_count": 76,
   "metadata": {},
   "outputs": [
    {
     "data": {
      "text/html": [
       "<div>\n",
       "<style>\n",
       "    .dataframe thead tr:only-child th {\n",
       "        text-align: right;\n",
       "    }\n",
       "\n",
       "    .dataframe thead th {\n",
       "        text-align: left;\n",
       "    }\n",
       "\n",
       "    .dataframe tbody tr th {\n",
       "        vertical-align: top;\n",
       "    }\n",
       "</style>\n",
       "<table border=\"1\" class=\"dataframe\">\n",
       "  <thead>\n",
       "    <tr style=\"text-align: right;\">\n",
       "      <th></th>\n",
       "      <th></th>\n",
       "      <th>PatientId</th>\n",
       "      <th>AppointmentID</th>\n",
       "      <th>ScheduledDay</th>\n",
       "      <th>AppointmentDay</th>\n",
       "      <th>Age</th>\n",
       "      <th>Neighbourhood</th>\n",
       "      <th>Scholarship</th>\n",
       "      <th>Hipertension</th>\n",
       "      <th>Diabetes</th>\n",
       "      <th>Alcoholism</th>\n",
       "      <th>Handcap</th>\n",
       "      <th>SMS_received</th>\n",
       "    </tr>\n",
       "    <tr>\n",
       "      <th>Gender</th>\n",
       "      <th>No-show</th>\n",
       "      <th></th>\n",
       "      <th></th>\n",
       "      <th></th>\n",
       "      <th></th>\n",
       "      <th></th>\n",
       "      <th></th>\n",
       "      <th></th>\n",
       "      <th></th>\n",
       "      <th></th>\n",
       "      <th></th>\n",
       "      <th></th>\n",
       "      <th></th>\n",
       "    </tr>\n",
       "  </thead>\n",
       "  <tbody>\n",
       "    <tr>\n",
       "      <th rowspan=\"2\" valign=\"top\">F</th>\n",
       "      <th>No</th>\n",
       "      <td>55839</td>\n",
       "      <td>55839</td>\n",
       "      <td>55839</td>\n",
       "      <td>55839</td>\n",
       "      <td>55839</td>\n",
       "      <td>55839</td>\n",
       "      <td>55839</td>\n",
       "      <td>55839</td>\n",
       "      <td>55839</td>\n",
       "      <td>55839</td>\n",
       "      <td>55839</td>\n",
       "      <td>55839</td>\n",
       "    </tr>\n",
       "    <tr>\n",
       "      <th>Yes</th>\n",
       "      <td>14272</td>\n",
       "      <td>14272</td>\n",
       "      <td>14272</td>\n",
       "      <td>14272</td>\n",
       "      <td>14272</td>\n",
       "      <td>14272</td>\n",
       "      <td>14272</td>\n",
       "      <td>14272</td>\n",
       "      <td>14272</td>\n",
       "      <td>14272</td>\n",
       "      <td>14272</td>\n",
       "      <td>14272</td>\n",
       "    </tr>\n",
       "    <tr>\n",
       "      <th rowspan=\"2\" valign=\"top\">M</th>\n",
       "      <th>No</th>\n",
       "      <td>29464</td>\n",
       "      <td>29464</td>\n",
       "      <td>29464</td>\n",
       "      <td>29464</td>\n",
       "      <td>29464</td>\n",
       "      <td>29464</td>\n",
       "      <td>29464</td>\n",
       "      <td>29464</td>\n",
       "      <td>29464</td>\n",
       "      <td>29464</td>\n",
       "      <td>29464</td>\n",
       "      <td>29464</td>\n",
       "    </tr>\n",
       "    <tr>\n",
       "      <th>Yes</th>\n",
       "      <td>7405</td>\n",
       "      <td>7405</td>\n",
       "      <td>7405</td>\n",
       "      <td>7405</td>\n",
       "      <td>7405</td>\n",
       "      <td>7405</td>\n",
       "      <td>7405</td>\n",
       "      <td>7405</td>\n",
       "      <td>7405</td>\n",
       "      <td>7405</td>\n",
       "      <td>7405</td>\n",
       "      <td>7405</td>\n",
       "    </tr>\n",
       "  </tbody>\n",
       "</table>\n",
       "</div>"
      ],
      "text/plain": [
       "                PatientId  AppointmentID  ScheduledDay  AppointmentDay    Age  \\\n",
       "Gender No-show                                                                  \n",
       "F      No           55839          55839         55839           55839  55839   \n",
       "       Yes          14272          14272         14272           14272  14272   \n",
       "M      No           29464          29464         29464           29464  29464   \n",
       "       Yes           7405           7405          7405            7405   7405   \n",
       "\n",
       "                Neighbourhood  Scholarship  Hipertension  Diabetes  \\\n",
       "Gender No-show                                                       \n",
       "F      No               55839        55839         55839     55839   \n",
       "       Yes              14272        14272         14272     14272   \n",
       "M      No               29464        29464         29464     29464   \n",
       "       Yes               7405         7405          7405      7405   \n",
       "\n",
       "                Alcoholism  Handcap  SMS_received  \n",
       "Gender No-show                                     \n",
       "F      No            55839    55839         55839  \n",
       "       Yes           14272    14272         14272  \n",
       "M      No            29464    29464         29464  \n",
       "       Yes            7405     7405          7405  "
      ]
     },
     "execution_count": 76,
     "metadata": {},
     "output_type": "execute_result"
    }
   ],
   "source": [
    "data.groupby(['Gender','No-show']).count()"
   ]
  },
  {
   "cell_type": "markdown",
   "metadata": {},
   "source": [
    "### Inferences for Gender Analysis\n",
    "Nearly 20% of the people do not show up irrespective of gender\n",
    "Women tend to have less No-shows than men in the given data set"
   ]
  },
  {
   "cell_type": "markdown",
   "metadata": {},
   "source": [
    "## Scholarship Analysis"
   ]
  },
  {
   "cell_type": "code",
   "execution_count": 89,
   "metadata": {},
   "outputs": [
    {
     "name": "stdout",
     "output_type": "stream",
     "text": [
      "{0: 0.19866695781472585, 1: 0.23785734110463502}\n",
      "Values ae {0: 0.19866695781472585, 1: 0.23785734110463502}\n"
     ]
    },
    {
     "data": {
      "image/png": "[encoded data removed]",
      "text/plain": [
       "<matplotlib.figure.Figure at 0xde6a400>"
      ]
     },
     "metadata": {},
     "output_type": "display_data"
    }
   ],
   "source": [
    "#Get the propability based on the scholarship\n",
    "count_Scholarship = calculateProbability(data,['Scholarship'], True)\n",
    "print(\"Probability Values are\", count_Scholarship) #display vlaues\n",
    "#Plot the graph\n",
    "sns.barplot(x = ['No','Yes'] , y=np.array(list(count_Scholarship.values())))\n",
    "plt.title('No-show Probability based on Scholarship');\n",
    "plt.xlabel('Scholarship Granted')\n",
    "plt.ylabel('Probability of No-show');"
   ]
  },
  {
   "cell_type": "code",
   "execution_count": 77,
   "metadata": {},
   "outputs": [
    {
     "data": {
      "text/html": [
       "<div>\n",
       "<style>\n",
       "    .dataframe thead tr:only-child th {\n",
       "        text-align: right;\n",
       "    }\n",
       "\n",
       "    .dataframe thead th {\n",
       "        text-align: left;\n",
       "    }\n",
       "\n",
       "    .dataframe tbody tr th {\n",
       "        vertical-align: top;\n",
       "    }\n",
       "</style>\n",
       "<table border=\"1\" class=\"dataframe\">\n",
       "  <thead>\n",
       "    <tr style=\"text-align: right;\">\n",
       "      <th></th>\n",
       "      <th></th>\n",
       "      <th>PatientId</th>\n",
       "      <th>AppointmentID</th>\n",
       "      <th>Gender</th>\n",
       "      <th>ScheduledDay</th>\n",
       "      <th>AppointmentDay</th>\n",
       "      <th>Age</th>\n",
       "      <th>Neighbourhood</th>\n",
       "      <th>Hipertension</th>\n",
       "      <th>Diabetes</th>\n",
       "      <th>Alcoholism</th>\n",
       "      <th>Handcap</th>\n",
       "      <th>SMS_received</th>\n",
       "    </tr>\n",
       "    <tr>\n",
       "      <th>Scholarship</th>\n",
       "      <th>No-show</th>\n",
       "      <th></th>\n",
       "      <th></th>\n",
       "      <th></th>\n",
       "      <th></th>\n",
       "      <th></th>\n",
       "      <th></th>\n",
       "      <th></th>\n",
       "      <th></th>\n",
       "      <th></th>\n",
       "      <th></th>\n",
       "      <th></th>\n",
       "      <th></th>\n",
       "    </tr>\n",
       "  </thead>\n",
       "  <tbody>\n",
       "    <tr>\n",
       "      <th rowspan=\"2\" valign=\"top\">0</th>\n",
       "      <th>No</th>\n",
       "      <td>77065</td>\n",
       "      <td>77065</td>\n",
       "      <td>77065</td>\n",
       "      <td>77065</td>\n",
       "      <td>77065</td>\n",
       "      <td>77065</td>\n",
       "      <td>77065</td>\n",
       "      <td>77065</td>\n",
       "      <td>77065</td>\n",
       "      <td>77065</td>\n",
       "      <td>77065</td>\n",
       "      <td>77065</td>\n",
       "    </tr>\n",
       "    <tr>\n",
       "      <th>Yes</th>\n",
       "      <td>19106</td>\n",
       "      <td>19106</td>\n",
       "      <td>19106</td>\n",
       "      <td>19106</td>\n",
       "      <td>19106</td>\n",
       "      <td>19106</td>\n",
       "      <td>19106</td>\n",
       "      <td>19106</td>\n",
       "      <td>19106</td>\n",
       "      <td>19106</td>\n",
       "      <td>19106</td>\n",
       "      <td>19106</td>\n",
       "    </tr>\n",
       "    <tr>\n",
       "      <th rowspan=\"2\" valign=\"top\">1</th>\n",
       "      <th>No</th>\n",
       "      <td>8238</td>\n",
       "      <td>8238</td>\n",
       "      <td>8238</td>\n",
       "      <td>8238</td>\n",
       "      <td>8238</td>\n",
       "      <td>8238</td>\n",
       "      <td>8238</td>\n",
       "      <td>8238</td>\n",
       "      <td>8238</td>\n",
       "      <td>8238</td>\n",
       "      <td>8238</td>\n",
       "      <td>8238</td>\n",
       "    </tr>\n",
       "    <tr>\n",
       "      <th>Yes</th>\n",
       "      <td>2571</td>\n",
       "      <td>2571</td>\n",
       "      <td>2571</td>\n",
       "      <td>2571</td>\n",
       "      <td>2571</td>\n",
       "      <td>2571</td>\n",
       "      <td>2571</td>\n",
       "      <td>2571</td>\n",
       "      <td>2571</td>\n",
       "      <td>2571</td>\n",
       "      <td>2571</td>\n",
       "      <td>2571</td>\n",
       "    </tr>\n",
       "  </tbody>\n",
       "</table>\n",
       "</div>"
      ],
      "text/plain": [
       "                     PatientId  AppointmentID  Gender  ScheduledDay  \\\n",
       "Scholarship No-show                                                   \n",
       "0           No           77065          77065   77065         77065   \n",
       "            Yes          19106          19106   19106         19106   \n",
       "1           No            8238           8238    8238          8238   \n",
       "            Yes           2571           2571    2571          2571   \n",
       "\n",
       "                     AppointmentDay    Age  Neighbourhood  Hipertension  \\\n",
       "Scholarship No-show                                                       \n",
       "0           No                77065  77065          77065         77065   \n",
       "            Yes               19106  19106          19106         19106   \n",
       "1           No                 8238   8238           8238          8238   \n",
       "            Yes                2571   2571           2571          2571   \n",
       "\n",
       "                     Diabetes  Alcoholism  Handcap  SMS_received  \n",
       "Scholarship No-show                                               \n",
       "0           No          77065       77065    77065         77065  \n",
       "            Yes         19106       19106    19106         19106  \n",
       "1           No           8238        8238     8238          8238  \n",
       "            Yes          2571        2571     2571          2571  "
      ]
     },
     "execution_count": 77,
     "metadata": {},
     "output_type": "execute_result"
    }
   ],
   "source": [
    "data.groupby(['Scholarship','No-show']).count()"
   ]
  },
  {
   "cell_type": "markdown",
   "metadata": {},
   "source": [
    "### Inferences for Scholarship Analysis\n",
    "People without scholarship are more likely to make it to the appointment"
   ]
  },
  {
   "cell_type": "markdown",
   "metadata": {},
   "source": [
    "## SMS Analysis"
   ]
  },
  {
   "cell_type": "code",
   "execution_count": 90,
   "metadata": {},
   "outputs": [
    {
     "name": "stdout",
     "output_type": "stream",
     "text": [
      "Probability valuse are {0: 0.16726062213381954, 1: 0.27665972704140646}\n"
     ]
    },
    {
     "data": {
      "image/png": "[encoded data removed]",
      "text/plain": [
       "<matplotlib.figure.Figure at 0xdd90ba8>"
      ]
     },
     "metadata": {},
     "output_type": "display_data"
    }
   ],
   "source": [
    "count_sms = calculateProbability(data,['SMS_received'],True)\n",
    "print(\"Probability valuse are\",count_sms) #display vlaues\n",
    "#Plot the graph\n",
    "sns.barplot(x = ['No', 'Yes'] , y=np.array(list(count_sms.values())))\n",
    "plt.title('No-show Probability based on SMS');\n",
    "plt.xlabel('SMS received')\n",
    "plt.ylabel('Probability of No-show');"
   ]
  },
  {
   "cell_type": "code",
   "execution_count": 79,
   "metadata": {},
   "outputs": [
    {
     "data": {
      "text/html": [
       "<div>\n",
       "<style>\n",
       "    .dataframe thead tr:only-child th {\n",
       "        text-align: right;\n",
       "    }\n",
       "\n",
       "    .dataframe thead th {\n",
       "        text-align: left;\n",
       "    }\n",
       "\n",
       "    .dataframe tbody tr th {\n",
       "        vertical-align: top;\n",
       "    }\n",
       "</style>\n",
       "<table border=\"1\" class=\"dataframe\">\n",
       "  <thead>\n",
       "    <tr style=\"text-align: right;\">\n",
       "      <th></th>\n",
       "      <th>PatientId</th>\n",
       "      <th>AppointmentID</th>\n",
       "      <th>Gender</th>\n",
       "      <th>ScheduledDay</th>\n",
       "      <th>AppointmentDay</th>\n",
       "      <th>Age</th>\n",
       "      <th>Neighbourhood</th>\n",
       "      <th>Scholarship</th>\n",
       "      <th>Hipertension</th>\n",
       "      <th>Diabetes</th>\n",
       "      <th>Alcoholism</th>\n",
       "      <th>Handcap</th>\n",
       "      <th>No-show</th>\n",
       "    </tr>\n",
       "    <tr>\n",
       "      <th>SMS_received</th>\n",
       "      <th></th>\n",
       "      <th></th>\n",
       "      <th></th>\n",
       "      <th></th>\n",
       "      <th></th>\n",
       "      <th></th>\n",
       "      <th></th>\n",
       "      <th></th>\n",
       "      <th></th>\n",
       "      <th></th>\n",
       "      <th></th>\n",
       "      <th></th>\n",
       "      <th></th>\n",
       "    </tr>\n",
       "  </thead>\n",
       "  <tbody>\n",
       "    <tr>\n",
       "      <th>0</th>\n",
       "      <td>72396</td>\n",
       "      <td>72396</td>\n",
       "      <td>72396</td>\n",
       "      <td>72396</td>\n",
       "      <td>72396</td>\n",
       "      <td>72396</td>\n",
       "      <td>72396</td>\n",
       "      <td>72396</td>\n",
       "      <td>72396</td>\n",
       "      <td>72396</td>\n",
       "      <td>72396</td>\n",
       "      <td>72396</td>\n",
       "      <td>72396</td>\n",
       "    </tr>\n",
       "    <tr>\n",
       "      <th>1</th>\n",
       "      <td>34584</td>\n",
       "      <td>34584</td>\n",
       "      <td>34584</td>\n",
       "      <td>34584</td>\n",
       "      <td>34584</td>\n",
       "      <td>34584</td>\n",
       "      <td>34584</td>\n",
       "      <td>34584</td>\n",
       "      <td>34584</td>\n",
       "      <td>34584</td>\n",
       "      <td>34584</td>\n",
       "      <td>34584</td>\n",
       "      <td>34584</td>\n",
       "    </tr>\n",
       "  </tbody>\n",
       "</table>\n",
       "</div>"
      ],
      "text/plain": [
       "              PatientId  AppointmentID  Gender  ScheduledDay  AppointmentDay  \\\n",
       "SMS_received                                                                   \n",
       "0                 72396          72396   72396         72396           72396   \n",
       "1                 34584          34584   34584         34584           34584   \n",
       "\n",
       "                Age  Neighbourhood  Scholarship  Hipertension  Diabetes  \\\n",
       "SMS_received                                                              \n",
       "0             72396          72396        72396         72396     72396   \n",
       "1             34584          34584        34584         34584     34584   \n",
       "\n",
       "              Alcoholism  Handcap  No-show  \n",
       "SMS_received                                \n",
       "0                  72396    72396    72396  \n",
       "1                  34584    34584    34584  "
      ]
     },
     "execution_count": 79,
     "metadata": {},
     "output_type": "execute_result"
    }
   ],
   "source": [
    "data.groupby('SMS_received').count()"
   ]
  },
  {
   "cell_type": "markdown",
   "metadata": {},
   "source": [
    "### Inferences for SMS Analysis\n",
    "People who have not recevied SMS tend to miss the appointment"
   ]
  },
  {
   "cell_type": "markdown",
   "metadata": {},
   "source": [
    "# Step 4: Conclusions\n",
    "\n",
    "Nearly 20% of the people do not show up irrespective of gender\n",
    "Women tend to have less No-shows than men in the given data set\n",
    "People without scholarship are more likely to make it to the appointment\n",
    "People who have not recevied SMS tend to miss the appointment"
   ]
  }
 ],
 "metadata": {
  "kernelspec": {
   "display_name": "Python 3",
   "language": "python",
   "name": "python3"
  },
  "language_info": {
   "codemirror_mode": {
    "name": "ipython",
    "version": 3
   },
   "file_extension": ".py",
   "mimetype": "text/x-python",
   "name": "python",
   "nbconvert_exporter": "python",
   "pygments_lexer": "ipython3",
   "version": "3.6.3"
  }
 },
 "nbformat": 4,
 "nbformat_minor": 2
}
